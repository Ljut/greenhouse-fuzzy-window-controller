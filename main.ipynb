{
 "cells": [
  {
   "cell_type": "markdown",
   "id": "ee33846e",
   "metadata": {},
   "source": [
    "# Fuzzy upravljanje poljoprivrednom proizvodnjom u plasteniku"
   ]
  },
  {
   "cell_type": "markdown",
   "id": "c595cec3",
   "metadata": {},
   "source": [
    "<center><img src=\"Dinko.png\" alt=\"drawing\" width=\"50%\"/></center>"
   ]
  },
  {
   "cell_type": "markdown",
   "id": "be05d52f",
   "metadata": {},
   "source": [
    "### KRATAK OPIS PROBLEMA \n",
    "<p>\n",
    " Kao što nam je poznato u plastenicima i staklenicima se vrlo brzo mijenjaju klimatski uvjeti\n",
    " i zbog toga nam je potrebna automatska regulacija ventilacije (temperature) kako bi se potpuno iskoristila funkcionalnost objekata.\n",
    "\n",
    "Zbog previsoke temperature u objektu dolazi do izduživanja internodija na biljkama dok preniska \n",
    "temperatura zaustavlja njezin rast. Kod ručnog otvaranja ventilacije nikad ne možemo pravovremeno \n",
    "odrediti kada je potrebno otvaranje ili zatvaranje ventilacije, a već mala zakašnjenja mogu dovesti do\n",
    " ekstremno visokih temperatura što je veliki šok za biljke.\n",
    "\n",
    "Sa automatikom se ventilacija vrši postepenim otvaranjem prozora čime se onemogućavaju nagle \n",
    "promijene temperature koje uzrokuju šokiranje biljaka. Kod određene brzine i smjera vjetra automatika \n",
    "po potrebi pritvara ili zatvara ventilacijske otvore kako bi se spriječilo oštećenje objekta kod nevrjemena.<sup>[1](#izvori)</sup>\n",
    "</p>"
   ]
  },
  {
   "cell_type": "markdown",
   "id": "e40b802c",
   "metadata": {},
   "source": [
    "### DEFINICIJA ULAZNIH I IZLAZNIH VARIJABLI\n",
    "\n",
    "Projekat bi bio realiziran na platformi Raspberry pi pico w, zbog svoje podrške za Python programiranje i zato što ima ugrađen WiFi čip na sebi koji ćemo iskoristiti u projektu. U nastavku su definisane ulazne i izlazne varijable koje ćemo koristiti za mikrokontroler:\n",
    "\n",
    "#### Ulazne varijable\n",
    "\n",
    "Za ulazne varijable smo odabrali sljedećih 5: temperatura i vlažnost zraka, brzina vjetra, AQ indeks i da li pada kiša. Temperatura zraka je po prirodi kontinualna varijabla, koju ćemo mjeriti pomoću `DHT 22` senzora, koji može da mjeri temperaturu u rasponu [-40°C, 80°C]. ~~Kategorički ćemo temperaturu podjeliti na `hladno`, `toplo`, `vruće`~~. Vlažnost zraka je također po prirodi kontinualna varijabla, koju ćemo također mjeriti pomoću `DHT 22` senzora, koji može mjeriti vlažnost zraka u rasponu [0%, 100%].<sup>[2](#izvori)</sup> ~~Kategorički ćemo vlažnost podjeliti na `vlažno`, `suho`~~. Brzinu vjetra je kontinualna varijabla po prirodi i nju ćemo mjeriti pomoću `adafruit anemometara`. Ovaj a anemometar može mjeriti brzinu vjetra u rasponu [0m/s, 32.4m/s]. ~~Kategorički ćemo vjetar podjeliti na `nema`, `slab`, `umjeren` i `jak`~~. `AQ indeks` je kontinualna varijabla za čije mjerenje ćemo koristiti API sa stranice https://aqicn.org. Međutim iz sigurnosnih razloga, da bi zaštitili API ključ koji smo dobili za pristup njihovom API-ju, napravili smo novi servis (na domeni https://dajposlic.pythonanywhere.com/) kroz koji ćemo pristupati njihovom API-ju kroz ovaj zadatak. raspon AQ indeksa je [0, +∞]. ~~AQ indeks je kategorisan na sljedeći način: `dobro`, `umjereno`, `blago nezdravo`, `nezdravo`, `pravo nezdravo`, `opasno`<sup>[3](#izvori)</sup>~~. Varijabla `da li pada kiša` je diskretna varijabla, koju ćemo mjeriti pomoću `senzora za kišu`, koji daje vrijednosti  {ne, da}. \n",
    "\n",
    "#### Izlazne varijable\n",
    "Izlazna varijabla će nam biti tipa ~~__#Bool mikrokontroleru kao signal da treba otvoriti prozore#Realan broj(Double) koji predstavlja koliko će mikrokontroler otvoriti prozore#__~~\n"
   ]
  },
  {
   "cell_type": "markdown",
   "id": "fb103bf2",
   "metadata": {},
   "source": [
    "### DEFINICIJA ULAZNIH I IZLAZNIH VARIJABLI\n",
    "\n",
    "#### Ulazne varijable\n",
    "~~d\n",
    "Ulazne varijable koje ćemo koristiti za naš fuzzy kontroler su: \n",
    "\n",
    "1.    Temperatura zraka\n",
    "1.    Brzina vjetra\n",
    "1.    Smjer vjetra\n",
    "1.    Da li pada kiša\n",
    "1.    AQI indeks zraka\n",
    "\n",
    "Senzori koji se koriste za ventilaciju:\n",
    "\n",
    "1.    Unutarnji temperaturni senzor\n",
    "1.    Senzor za mjerenje brzine vjetra\n",
    "1.    Senzor za kišu\n",
    "1.    Senzor za smjer vjetra\n",
    "\n",
    "Vanjski API za AQ indeks zraka koji ćemo koristiti je sa stranice https://aqicn.org, ali koristimo svoj REST endpoint:\n",
    "1.    https://dajposlic.pythonanywhere.com/AQI\n",
    "\n",
    "#### Izlazne varijable\n",
    "\n",
    "Izlazna varijabla će nam biti tipa ~~__#Bool mikrokontroleru kao signal da treba otvoriti prozore#Realan broj(Double) koji predstavlja koliko će mikrokontroler otvoriti prozore#__~~\n",
    "d~~\n"
   ]
  },
  {
   "cell_type": "markdown",
   "id": "0026c4bd",
   "metadata": {},
   "source": [
    "### DEFINISANJE FUZZY SKUPOVA"
   ]
  },
  {
   "cell_type": "markdown",
   "id": "fa4feb25",
   "metadata": {},
   "source": [
    "### IMPLEMENTACIJA FUZZY SISTEMA"
   ]
  },
  {
   "cell_type": "markdown",
   "id": "01807543",
   "metadata": {},
   "source": [
    "### ZAKLJUČAK I KRATKA REFLEKSIJA"
   ]
  },
  {
   "cell_type": "markdown",
   "id": "48554949",
   "metadata": {},
   "source": [
    "### IZVORI\n",
    "\n",
    "1. https://www.winter.hr/automatika.htm\n",
    "1. https://cdn.sparkfun.com/assets/f/7/d/9/c/DHT22.pdf\n",
    "1. https://waqi.info/#/c/3.396/8.206/2.2z\n",
    "\n"
   ]
  },
  {
   "cell_type": "markdown",
   "id": "357f5f05",
   "metadata": {},
   "source": [
    "### ULOGE ČLANOVA"
   ]
  },
  {
   "cell_type": "code",
   "execution_count": null,
   "id": "96af9598",
   "metadata": {
    "vscode": {
     "languageId": "plaintext"
    }
   },
   "outputs": [],
   "source": []
  }
 ],
 "metadata": {
  "language_info": {
   "name": "python"
  }
 },
 "nbformat": 4,
 "nbformat_minor": 5
}
