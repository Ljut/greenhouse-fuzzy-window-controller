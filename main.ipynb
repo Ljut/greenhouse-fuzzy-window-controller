{
 "cells": [
  {
   "cell_type": "markdown",
   "id": "ee33846e",
   "metadata": {},
   "source": [
    "# Fuzzy upravljanje poljoprivrednom proizvodnjom u plasteniku"
   ]
  },
  {
   "cell_type": "markdown",
   "id": "c595cec3",
   "metadata": {},
   "source": [
    "<center><img src=\"Dinko.png\" alt=\"drawing\" width=\"50%\"/></center>"
   ]
  },
  {
   "cell_type": "markdown",
   "id": "be05d52f",
   "metadata": {},
   "source": [
    "### KRATAK OPIS PROBLEMA \n",
    "<p>\n",
    " Kao što nam je poznato u plastenicima i staklenicima se vrlo brzo mijenjaju klimatski uvjeti\n",
    " i zbog toga nam je potrebna automatska regulacija ventilacije (temperature) kako bi se potpuno iskoristila funkcionalnost objekata.\n",
    "\n",
    "Zbog previsoke temperature u objektu dolazi do izduživanja internodija na biljkama dok preniska \n",
    "temperatura zaustavlja njezin rast. Kod ručnog otvaranja ventilacije nikad ne možemo pravovremeno \n",
    "odrediti kada je potrebno otvaranje ili zatvaranje ventilacije, a već mala zakašnjenja mogu dovesti do\n",
    " ekstremno visokih temperatura što je veliki šok za biljke.\n",
    "\n",
    "Sa automatikom se ventilacija vrši postepenim otvaranjem prozora čime se onemogućavaju nagle \n",
    "promijene temperature koje uzrokuju šokiranje biljaka. Kod određene brzine i smjera vjetra automatika \n",
    "po potrebi pritvara ili zatvara ventilacijske otvore kako bi se spriječilo oštećenje objekta kod nevrjemena.<sup>[1](#izvori)</sup>\n",
    "</p>"
   ]
  },
  {
   "cell_type": "markdown",
   "id": "fb103bf2",
   "metadata": {},
   "source": [
    "### DEFINICIJA ULAZNIH I IZLAZNIH VARIJABLI\n",
    "\n",
    "Ulazne varijable koje ćemo koristiti za naš fuzzy kontroler su: \n",
    "\n",
    "1.    temperatura zraka\n",
    "1.    brzina vjetra\n",
    "1.    Smjer vjetra\n",
    "1.    da li pada kiša\n",
    "1.    AQI indeks zraka\n",
    "\n",
    "Senzori koji se koriste za ventilaciju:\n",
    "\n",
    "1.    Unutarnji temperaturni senzor\n",
    "1.    Senzor za mjerenje brzine vjetra\n",
    "1.    Senzor za kišu\n",
    "1.    Senzor za smjer vjetra\n",
    "\n",
    "Vanjski API za AQ indeks zraka koji ćemo koristiti je sa stranice:\n",
    "1.    https://aqicn.org\n",
    "1.    https://api.waqi.info/feed/sarajevo/?token=*token*\n",
    "\n",
    "\n"
   ]
  },
  {
   "cell_type": "markdown",
   "id": "0026c4bd",
   "metadata": {},
   "source": [
    "### DEFINISANJE FUZZY SKUPOVA"
   ]
  },
  {
   "cell_type": "markdown",
   "id": "fa4feb25",
   "metadata": {},
   "source": [
    "### IMPLEMENTACIJA FUZZY SISTEMA"
   ]
  },
  {
   "cell_type": "markdown",
   "id": "01807543",
   "metadata": {},
   "source": [
    "### ZAKLJUČAK I KRATKA REFLEKSIJA"
   ]
  },
  {
   "cell_type": "markdown",
   "id": "48554949",
   "metadata": {},
   "source": [
    "### IZVORI\n",
    "\n",
    "1. https://www.winter.hr/automatika.htm\n"
   ]
  },
  {
   "cell_type": "markdown",
   "id": "357f5f05",
   "metadata": {},
   "source": [
    "### ULOGE ČLANOVA"
   ]
  },
  {
   "cell_type": "code",
   "execution_count": null,
   "id": "96af9598",
   "metadata": {
    "vscode": {
     "languageId": "plaintext"
    }
   },
   "outputs": [],
   "source": []
  }
 ],
 "metadata": {
  "language_info": {
   "name": "python"
  }
 },
 "nbformat": 4,
 "nbformat_minor": 5
}
