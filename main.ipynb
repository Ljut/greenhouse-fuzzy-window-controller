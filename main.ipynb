{
 "cells": [
  {
   "cell_type": "markdown",
   "id": "ee33846e",
   "metadata": {},
   "source": [
    "# Fuzzy upravljanje poljoprivrednom proizvodnjom u plasteniku"
   ]
  },
  {
   "cell_type": "markdown",
   "id": "c595cec3",
   "metadata": {},
   "source": [
    "<center><img src=\"Dinko.png\" alt=\"drawing\" width=\"50%\"/></center>"
   ]
  },
  {
   "cell_type": "markdown",
   "id": "be05d52f",
   "metadata": {},
   "source": [
    "### KRATAK OPIS PROBLEMA \n",
    "<p>\n",
    " Kao što nam je poznato u plastenicima i staklenicima se vrlo brzo mijenjaju klimatski uvjeti\n",
    " i zbog toga nam je potrebna automatska regulacija ventilacije (temperature) kako bi se potpuno iskoristila funkcionalnost objekata.\n",
    "\n",
    "Zbog previsoke temperature u objektu dolazi do izduživanja internodija na biljkama dok preniska \n",
    "temperatura zaustavlja njezin rast. Kod ručnog otvaranja ventilacije nikad ne možemo pravovremeno \n",
    "odrediti kada je potrebno otvaranje ili zatvaranje ventilacije, a već mala zakašnjenja mogu dovesti do\n",
    " ekstremno visokih temperatura što je veliki šok za biljke.\n",
    "\n",
    "Sa automatikom se ventilacija vrši postepenim otvaranjem prozora čime se onemogućavaju nagle \n",
    "promijene temperature koje uzrokuju šokiranje biljaka. Kod određene brzine i smjera vjetra automatika \n",
    "po potrebi pritvara ili zatvara ventilacijske otvore kako bi se spriječilo oštećenje objekta kod nevrjemena.<sup>[1](#izvori)</sup>\n",
    "</p>"
   ]
  },
  {
   "cell_type": "markdown",
   "id": "8b0e8209",
   "metadata": {},
   "source": [
    "### DEFINICIJA ULAZNIH I IZLAZNIH VARIJABLI\n",
    "\n",
    "Projekat bi bio realiziran na platformi Raspberry pi pico w, zbog svoje podrške za Python programski jezik i zato što ima ugrađen WiFi čip na sebi koji ćemo iskoristiti u projektu. U nastavku su definisane ulazne i izlazne varijable koje ćemo koristiti za mikrokontroler:\n",
    "\n",
    "#### Ulazne varijable\n",
    "\n",
    "Za naš fuzzy kontroler smo koristili 5 ulaznih varijabli:\n",
    "\n",
    "1. **Varijabla:** Temperatura zraka  \n",
    "   **Senzor:** `DHT 22`\n",
    "\n",
    "2. **Varijabla:** Vlažnost zraka  \n",
    "   **Senzor:** `DHT 22`\n",
    "\n",
    "3. **Varijabla:** Brzina vjetra  \n",
    "   **Senzor:** `Adafruit anemometar`\n",
    "\n",
    "4. **Varijabla:** AQ indeks  \n",
    "   **API:** [dajposlic.pythonanywhere.com](https://dajposlic.pythonanywhere.com) (što je omotač za [AQICN API](https://aqicn.org/city/sarajevo/))\n",
    "\n",
    "5. **Varijabla:** Da li pada kiša  \n",
    "   **Senzor:** `Senzor za kišu`\n",
    "\n",
    "\n",
    "#### Izlazne varijable\n",
    "\n",
    "Izlazna varijabla je tipa **bool** i predstavlja signal mikrokontroleru da treba otvoriti prozore.\n",
    "\n",
    "> ili\n",
    "\n",
    "Izlazna varijabla je tipa **double** i predstavlja koliko će mikrokontroler otvoriti prozore.\n",
    "\n",
    "\n"
   ]
  },
  {
   "cell_type": "markdown",
   "id": "397ca279",
   "metadata": {},
   "source": [
    "### DEFINISANJE FUZZY SKUPOVA\n",
    "\n",
    "1. **Varijabla:** Temperatura zraka  \n",
    "   **Tip varijable:** `kontinualna`  \n",
    "   **Domen:** [-40°C, 80°C]<sup>[2](#izvori)</sup>  \n",
    "   **Lingvistički model varijable:**  \n",
    "   - `hladno`  \n",
    "   - `toplo`  \n",
    "   - `vruće`\n",
    "\n",
    "\n",
    "2. **Varijabla:** Vlažnost zraka  \n",
    "   **Tip varijable:** `kontinualna`  \n",
    "   **Domen:** [0%, 100%]  \n",
    "   **Lingvistički model varijable:**  \n",
    "   - `vlažno`  \n",
    "   - `suho`\n",
    "\n",
    "\n",
    "3. **Varijabla:** Brzina vjetra  \n",
    "   **Tip varijable:** `kontinualna`  \n",
    "   **Domen:** [0 m/s, 32.4 m/s]  \n",
    "   **Lingvistički model varijable:**  \n",
    "   - `nema`  \n",
    "   - `slab`  \n",
    "   - `umjeren`  \n",
    "   - `jak`\n",
    "\n",
    "4. **Varijabla:** AQ indeks  \n",
    "   **Tip varijable:** `kontinualna`  \n",
    "   **Domen:** [0, +∞]  \n",
    "   **Lingvistički model varijable:**<sup>[3](#izvori)</sup>\n",
    "   - `dobro`  \n",
    "   - `umjereno`  \n",
    "   - `blago nezdravo`  \n",
    "   - `nezdravo`  \n",
    "   - `pravo nezdravo`  \n",
    "   - `opasno`\n",
    "\n",
    "5. **Varijabla:** Da li pada kiša  \n",
    "   **Tip varijable:** `diskretna`  \n",
    "   **Domen:** {0, 1}  \n",
    "   **Lingvistički model varijable:**  \n",
    "   - `ne pada kiša`  \n",
    "   - `pada kiša`\n"
   ]
  },
  {
   "cell_type": "markdown",
   "id": "fa4feb25",
   "metadata": {},
   "source": [
    "### IMPLEMENTACIJA FUZZY SISTEMA"
   ]
  },
  {
   "cell_type": "markdown",
   "id": "01807543",
   "metadata": {},
   "source": [
    "### ZAKLJUČAK I KRATKA REFLEKSIJA"
   ]
  },
  {
   "cell_type": "markdown",
   "id": "48554949",
   "metadata": {},
   "source": [
    "### IZVORI\n",
    "\n",
    "1. https://www.winter.hr/automatika.htm\n",
    "1. https://cdn.sparkfun.com/assets/f/7/d/9/c/DHT22.pdf\n",
    "1. https://waqi.info/#/c/3.396/8.206/2.2z\n",
    "\n"
   ]
  },
  {
   "cell_type": "markdown",
   "id": "357f5f05",
   "metadata": {},
   "source": [
    "### ULOGE ČLANOVA"
   ]
  },
  {
   "cell_type": "code",
   "execution_count": null,
   "id": "96af9598",
   "metadata": {
    "vscode": {
     "languageId": "plaintext"
    }
   },
   "outputs": [],
   "source": []
  }
 ],
 "metadata": {
  "language_info": {
   "name": "python"
  }
 },
 "nbformat": 4,
 "nbformat_minor": 5
}
